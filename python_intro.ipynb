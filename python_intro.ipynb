{
  "nbformat": 4,
  "nbformat_minor": 0,
  "metadata": {
    "colab": {
      "name": "python_intro.ipynb",
      "provenance": [],
      "collapsed_sections": []
    },
    "kernelspec": {
      "name": "python3",
      "display_name": "Python 3"
    }
  },
  "cells": [
    {
      "cell_type": "markdown",
      "metadata": {
        "id": "1LEG84j7Irhq",
        "colab_type": "text"
      },
      "source": [
        "Сначала мы говорили о том, что питон можно использовать как калькулятор:"
      ]
    },
    {
      "cell_type": "code",
      "metadata": {
        "id": "REcpQZl4IrHg",
        "colab_type": "code",
        "outputId": "5c568215-a7c4-4e09-fed1-12c9270716cc",
        "colab": {
          "base_uri": "https://localhost:8080/",
          "height": 34
        }
      },
      "source": [
        "2+3 # запустите эту ячейку"
      ],
      "execution_count": 0,
      "outputs": [
        {
          "output_type": "execute_result",
          "data": {
            "text/plain": [
              "5"
            ]
          },
          "metadata": {
            "tags": []
          },
          "execution_count": 1
        }
      ]
    },
    {
      "cell_type": "markdown",
      "metadata": {
        "id": "HhAroFDdJZQM",
        "colab_type": "text"
      },
      "source": [
        "## основные операции с числами \n",
        "*(попробуйте сделать в ячейке с кодом, подставляя вместо x и y какие-нибудь числа. Порядок операций можно задавать скобочками)*\n",
        "\n",
        "x + y\tСложение\n",
        "\n",
        "x - y\tВычитание\n",
        "\n",
        "x * y\tУмножение\n",
        "\n",
        "x / y\tДеление\n",
        "\n",
        "x // y\tПолучение целой части от деления\n",
        "\n",
        "x % y\tОстаток от деления\n",
        "\n",
        "-x\tСмена знака числа\n",
        "\n",
        "abs(x)\tМодуль числа\n",
        "\n",
        "x ** y\tВозведение в степень"
      ]
    },
    {
      "cell_type": "code",
      "metadata": {
        "id": "ciLObZSYKPxP",
        "colab_type": "code",
        "outputId": "bc4299d2-8a3a-4260-f7bb-0c464a7c43a8",
        "colab": {
          "base_uri": "https://localhost:8080/",
          "height": 34
        }
      },
      "source": [
        "# пример\n",
        "(22+10)/3-15%2\n",
        "# в каком порядке выполняются операции?"
      ],
      "execution_count": 0,
      "outputs": [
        {
          "output_type": "execute_result",
          "data": {
            "text/plain": [
              "9.666666666666666"
            ]
          },
          "metadata": {
            "tags": []
          },
          "execution_count": 5
        }
      ]
    },
    {
      "cell_type": "code",
      "metadata": {
        "id": "8gQ-_M-V5rue",
        "colab_type": "code",
        "colab": {}
      },
      "source": [
        "# придумайте ваш пример в этой ячейке и запустите ее\n"
      ],
      "execution_count": 0,
      "outputs": []
    },
    {
      "cell_type": "markdown",
      "metadata": {
        "id": "-bebyG-eMdbU",
        "colab_type": "text"
      },
      "source": [
        "Порой для вычислений нам нужно сохранить результат. Для этого есть **переменные**. Переменные хранят ваши данные, мы *присваиваем им значение* через знак = "
      ]
    },
    {
      "cell_type": "code",
      "metadata": {
        "id": "DmQ4xiw_M-6o",
        "colab_type": "code",
        "colab": {}
      },
      "source": [
        "a = 5 \n",
        "# мы создали переменную а и присвоили ей значение 5"
      ],
      "execution_count": 0,
      "outputs": []
    },
    {
      "cell_type": "markdown",
      "metadata": {
        "id": "bxWvxaPkNiyK",
        "colab_type": "text"
      },
      "source": [
        "Переменные бывают разных типов, мы сегодня поговорим о числах и строках.\n",
        "\n",
        "* Переменные с типом \"строка\" обозначаются как str(сокращение от string)\n",
        "\n",
        "* Числовые переменные делятся на два подтипа:\n",
        "** int для целых чисел (45)\n",
        "** float для дробных (45.821)\n",
        "\n",
        "Проверить тип переменной можно с помощью функции ```type()```\n",
        "где в скобках будет ваша переменная"
      ]
    },
    {
      "cell_type": "code",
      "metadata": {
        "id": "IW5RJqr5NJZH",
        "colab_type": "code",
        "outputId": "19170015-5d1c-4cab-8d59-bc06096fc259",
        "colab": {
          "base_uri": "https://localhost:8080/",
          "height": 34
        }
      },
      "source": [
        "# создаем переменную, присваиваем значение\n",
        "var = 23\n",
        "type(var) #проверяем ее тип"
      ],
      "execution_count": 0,
      "outputs": [
        {
          "output_type": "execute_result",
          "data": {
            "text/plain": [
              "int"
            ]
          },
          "metadata": {
            "tags": []
          },
          "execution_count": 8
        }
      ]
    },
    {
      "cell_type": "code",
      "metadata": {
        "id": "4-NMOS-qP6qj",
        "colab_type": "code",
        "outputId": "dbc2990c-366d-4bc9-ecb6-fa48579c8bdd",
        "colab": {
          "base_uri": "https://localhost:8080/",
          "height": 34
        }
      },
      "source": [
        "# создадим другую переменную, с другим типом\n",
        "var2 = 34.09\n",
        "type(var2) # проверяем тип"
      ],
      "execution_count": 0,
      "outputs": [
        {
          "output_type": "execute_result",
          "data": {
            "text/plain": [
              "float"
            ]
          },
          "metadata": {
            "tags": []
          },
          "execution_count": 9
        }
      ]
    },
    {
      "cell_type": "code",
      "metadata": {
        "id": "SmfB-RrmQRmA",
        "colab_type": "code",
        "outputId": "8545a6e8-0105-41ee-a36d-0a1bef4e72ba",
        "colab": {
          "base_uri": "https://localhost:8080/",
          "height": 34
        }
      },
      "source": [
        "# создадим третью, с другим типом\n",
        "var3 = \"meow\" # не забудьте, что строки пишутся в кавычках, двойных или одинарных\n",
        "type(var3) # проверяем тип"
      ],
      "execution_count": 0,
      "outputs": [
        {
          "output_type": "execute_result",
          "data": {
            "text/plain": [
              "str"
            ]
          },
          "metadata": {
            "tags": []
          },
          "execution_count": 10
        }
      ]
    },
    {
      "cell_type": "markdown",
      "metadata": {
        "id": "42TDggDRQ-17",
        "colab_type": "text"
      },
      "source": [
        "## операции с переменными"
      ]
    },
    {
      "cell_type": "markdown",
      "metadata": {
        "id": "2l7GbBdrRCpQ",
        "colab_type": "text"
      },
      "source": [
        "с числовыми переменными можно делать все то, что мы делали с числами в первых ячейках (складывать, умножать, возводить в степень и тд)"
      ]
    },
    {
      "cell_type": "code",
      "metadata": {
        "id": "ifWeiU9qQrGv",
        "colab_type": "code",
        "outputId": "ce1847c7-18a2-4397-d97d-591b01c120d1",
        "colab": {
          "base_uri": "https://localhost:8080/",
          "height": 34
        }
      },
      "source": [
        "var+var2 #сложили первую и вторую переменную, т.к. они оба числовые\n"
      ],
      "execution_count": 0,
      "outputs": [
        {
          "output_type": "execute_result",
          "data": {
            "text/plain": [
              "57.09"
            ]
          },
          "metadata": {
            "tags": []
          },
          "execution_count": 11
        }
      ]
    },
    {
      "cell_type": "code",
      "metadata": {
        "id": "uUKbO1o9RO7W",
        "colab_type": "code",
        "outputId": "919986bb-e5ad-4fe5-e390-1399e59cf675",
        "colab": {
          "base_uri": "https://localhost:8080/",
          "height": 199
        }
      },
      "source": [
        "var2+var3 \n",
        "# а здесь появляется ошибка, т.к. мы не можем складывать и вычитать и делить переменные разных типов (строку и число)"
      ],
      "execution_count": 0,
      "outputs": [
        {
          "output_type": "error",
          "ename": "TypeError",
          "evalue": "ignored",
          "traceback": [
            "\u001b[0;31m---------------------------------------------------------------------------\u001b[0m",
            "\u001b[0;31mTypeError\u001b[0m                                 Traceback (most recent call last)",
            "\u001b[0;32m<ipython-input-16-c5f3c77784af>\u001b[0m in \u001b[0;36m<module>\u001b[0;34m()\u001b[0m\n\u001b[0;32m----> 1\u001b[0;31m \u001b[0mvar2\u001b[0m\u001b[0;34m+\u001b[0m\u001b[0mvar3\u001b[0m\u001b[0;34m\u001b[0m\u001b[0;34m\u001b[0m\u001b[0m\n\u001b[0m\u001b[1;32m      2\u001b[0m \u001b[0;31m# а здесь появляется ошибка, т.к. мы не можем складывать и вычитать и делить переменные разных типов (строку и число)\u001b[0m\u001b[0;34m\u001b[0m\u001b[0;34m\u001b[0m\u001b[0;34m\u001b[0m\u001b[0m\n",
            "\u001b[0;31mTypeError\u001b[0m: unsupported operand type(s) for +: 'float' and 'str'"
          ]
        }
      ]
    },
    {
      "cell_type": "code",
      "metadata": {
        "id": "tnnAVXp7RZdU",
        "colab_type": "code",
        "outputId": "5fc949b9-63bb-4fe7-949c-d3eaeb9e829f",
        "colab": {
          "base_uri": "https://localhost:8080/",
          "height": 34
        }
      },
      "source": [
        "var*var3 #однако мы можем умножать строку на число (или на переменную, в которую сохранили число)\n"
      ],
      "execution_count": 0,
      "outputs": [
        {
          "output_type": "execute_result",
          "data": {
            "text/plain": [
              "'meowmeowmeowmeowmeowmeowmeowmeowmeowmeowmeowmeowmeowmeowmeowmeowmeowmeowmeowmeowmeowmeowmeow'"
            ]
          },
          "metadata": {
            "tags": []
          },
          "execution_count": 13
        }
      ]
    },
    {
      "cell_type": "markdown",
      "metadata": {
        "id": "Oq-CCBxXSQRq",
        "colab_type": "text"
      },
      "source": [
        "Также мы можем пересохранять значения переменных"
      ]
    },
    {
      "cell_type": "code",
      "metadata": {
        "id": "gIowVTmkRvNN",
        "colab_type": "code",
        "outputId": "431d9566-ad08-44d0-ff80-c1ba06e97946",
        "colab": {
          "base_uri": "https://localhost:8080/",
          "height": 67
        }
      },
      "source": [
        "print(var) #функция print выводит на печать то, что мы запишем в ее скобках\n",
        "var = 2 # сохранили новое значение в уже существующую переменную var\n",
        "print(var)\n",
        "var = var * 10 # пересохраняем новое значение, которое равно старому, умноженному на 10\n",
        "print(var) "
      ],
      "execution_count": 0,
      "outputs": [
        {
          "output_type": "stream",
          "text": [
            "25\n",
            "2\n",
            "20\n"
          ],
          "name": "stdout"
        }
      ]
    },
    {
      "cell_type": "markdown",
      "metadata": {
        "id": "0g9Cl4u9TKSy",
        "colab_type": "text"
      },
      "source": [
        "пересохранения переменных - это удобно, но будьте осторожны, когда мы придем к теме циклов, там этим лучше не злоупотреблять"
      ]
    },
    {
      "cell_type": "markdown",
      "metadata": {
        "id": "fw01ApX0TW1I",
        "colab_type": "text"
      },
      "source": [
        "### операции со строками"
      ]
    },
    {
      "cell_type": "markdown",
      "metadata": {
        "id": "EqntstwwTdJY",
        "colab_type": "text"
      },
      "source": [
        "строка  - это *итерируемый* объект (мы можем пройтись по каждому из его элементов). Мы можем работать с элементами строки. Для этого нам понадобятся **индексы**, номер элемента. Индекс записывается в квадратных скобках []"
      ]
    },
    {
      "cell_type": "code",
      "metadata": {
        "id": "0OJxvs76ShbX",
        "colab_type": "code",
        "outputId": "f05657b2-fb02-451a-b896-08375d123321",
        "colab": {
          "base_uri": "https://localhost:8080/",
          "height": 50
        }
      },
      "source": [
        "new = \"line with some text\"\n",
        "print(new[0]) # хотим напечатать первый элемент в сторке\n",
        "print(new[-1])# хотим последний элемент, он же первый с конца\n",
        "\n",
        "# обратите внимание, что нумерация элементов начинается с 0, т.е. первый элемент имеет индекс 0"
      ],
      "execution_count": 0,
      "outputs": [
        {
          "output_type": "stream",
          "text": [
            "l\n",
            "t\n"
          ],
          "name": "stdout"
        }
      ]
    },
    {
      "cell_type": "markdown",
      "metadata": {
        "id": "8fTwOArLUf98",
        "colab_type": "text"
      },
      "source": [
        "еще строки можно *конкатенировать*, присоединять друг к другу"
      ]
    },
    {
      "cell_type": "code",
      "metadata": {
        "id": "SdSIkKdkUJQv",
        "colab_type": "code",
        "outputId": "28f96e54-a8d6-4385-84fb-efb98292b589",
        "colab": {
          "base_uri": "https://localhost:8080/",
          "height": 34
        }
      },
      "source": [
        "print (var3+new)"
      ],
      "execution_count": 0,
      "outputs": [
        {
          "output_type": "stream",
          "text": [
            "meowline with some text\n"
          ],
          "name": "stdout"
        }
      ]
    },
    {
      "cell_type": "code",
      "metadata": {
        "id": "SHgz476lUotP",
        "colab_type": "code",
        "colab": {}
      },
      "source": [
        "# to be continued.."
      ],
      "execution_count": 0,
      "outputs": []
    },
    {
      "cell_type": "code",
      "metadata": {
        "id": "m_xIrYROWiL1",
        "colab_type": "code",
        "colab": {}
      },
      "source": [
        ""
      ],
      "execution_count": 0,
      "outputs": []
    }
  ]
}